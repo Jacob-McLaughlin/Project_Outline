{
 "cells": [
  {
   "cell_type": "markdown",
   "id": "49341a3f",
   "metadata": {},
   "source": [
    "# Patient Selection\n",
    "\n",
    "This page will contain information on the patient selection criteria for the study. \n",
    "\n",
    "## Analysis\n",
    "\n",
    "It also contains room for supporting analyis in python."
   ]
  },
  {
   "cell_type": "code",
   "execution_count": 1,
   "id": "d85158a7",
   "metadata": {},
   "outputs": [
    {
     "name": "stdout",
     "output_type": "stream",
     "text": [
      "Placeholder\n"
     ]
    }
   ],
   "source": [
    "print(\"Placeholder\")"
   ]
  }
 ],
 "metadata": {
  "jupytext": {
   "cell_metadata_filter": "-all",
   "formats": "md:myst",
   "text_representation": {
    "extension": ".md",
    "format_name": "myst",
    "format_version": 0.13,
    "jupytext_version": "1.11.5"
   }
  },
  "kernelspec": {
   "display_name": "Python 3",
   "language": "python",
   "name": "python3"
  },
  "language_info": {
   "codemirror_mode": {
    "name": "ipython",
    "version": 3
   },
   "file_extension": ".py",
   "mimetype": "text/x-python",
   "name": "python",
   "nbconvert_exporter": "python",
   "pygments_lexer": "ipython3",
   "version": "3.10.4"
  },
  "source_map": [
   14,
   24
  ]
 },
 "nbformat": 4,
 "nbformat_minor": 5
}